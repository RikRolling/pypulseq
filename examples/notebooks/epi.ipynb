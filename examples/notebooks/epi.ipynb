{
 "cells": [
  {
   "cell_type": "markdown",
   "metadata": {},
   "source": [
    "EPI Notebook\n",
    "============\n",
    "**Note: this code will not run.\n",
    "See /cubric/data/c24073803/pypulseq_repo/pypulseq/examples/scripts/write_epi.py for runnable script**\n",
    "\n",
    "## Objectives\n",
    "1. To decontruct and understand the lines of code within write_epi.py\n",
    "2. To alter parameters and explore their resultant effect\n",
    "3. To explore changing the shape of the RF pulse\n",
    "\n",
    "\n",
    "\n",
    "\n",
    "\n",
    "**Rik Khot**\\\n",
    "**PhD Student**\\\n",
    "**Cardiff University School of Physics & Astronomy**\\\n",
    "**Supervisors: Kevin Murphy, Ian Driver, Emre Kopanoglu**"
   ]
  },
  {
   "cell_type": "code",
   "execution_count": null,
   "metadata": {},
   "outputs": [],
   "source": [
    "#Import packages\n",
    "import numpy as np\n",
    "import pypulseq as pp\n"
   ]
  },
  {
   "cell_type": "markdown",
   "metadata": {},
   "source": [
    "For information on the specific functions that are part of the pypulseq package [click this link](https://pypulseq.readthedocs.io/en/master/pypulseq.html)."
   ]
  },
  {
   "cell_type": "markdown",
   "metadata": {},
   "source": [
    "### MAIN FUNCTION\n",
    "The function main() contains all the code required to produce a .seq file.\\\n",
    ".seq files are what the MRI scanner reads to initiate a pulse sequence. \\\n",
    "The main() code also produces plots, which we will discuss further on."
   ]
  },
  {
   "cell_type": "code",
   "execution_count": null,
   "metadata": {},
   "outputs": [],
   "source": [
    "def main(plot: bool = False, write_seq: bool = False, seq_filename: str = 'epi_pypulseq.seq'):"
   ]
  },
  {
   "cell_type": "markdown",
   "metadata": {},
   "source": [
    "Let us consider the variables:\n",
    "- plot\n",
    "    - Variable of Boolean type (true/false)\n",
    "- write_seq\n",
    "    - Variable of Boolean type (true/false)\n",
    "- seq_filename\n",
    "    - Variable of string type \n",
    "    - Variable hardcoded as \"epi_pypulseq.seq\""
   ]
  },
  {
   "cell_type": "code",
   "execution_count": null,
   "metadata": {},
   "outputs": [],
   "source": [
    "# Define FOV and resolution\n",
    "    fov = 220e-3\n",
    "    Nx = 64\n",
    "    Ny = 64\n",
    "    slice_thickness = 3e-3  # Slice thickness\n",
    "    n_slices = 3"
   ]
  },
  {
   "cell_type": "markdown",
   "metadata": {},
   "source": [
    "N.B. We will assume that fov and slice thickness is quoted in **meters** \n",
    "\n",
    "The 1st section of the function hardcodes the values for:\n",
    "1. Field of view (FOV)\n",
    "    - *distance over which the MR image is acquired*\n",
    "    - *FOV and pixel width determine how many digitised samples are required to construct an image with required resolution*\n",
    "    - Spacing between k-space samples, $\\Delta k = \\frac{1}{FOV}$\n",
    "2. Matrix size\n",
    "    - relates to the number of pixels within an image\n",
    "    - affects resolution and image quality\n",
    "    would expect 128 x 128 or 256 x 256\n",
    "3. Slice Thickness\n",
    "    - Based on RF bandwidth\n",
    "    - In general(NOT MR SPECIFIC), RF wavelength range: $~3mm - 300,000m$\n",
    "\n",
    "4. No. of slices\n",
    "    - $n_{maxslices} = \\frac{TR}{TE}$"
   ]
  },
  {
   "cell_type": "code",
   "execution_count": null,
   "metadata": {},
   "outputs": [],
   "source": [
    "# Set system limits\n",
    "    system = pp.Opts(\n",
    "        max_grad=32,\n",
    "        grad_unit='mT/m',\n",
    "        max_slew=130,\n",
    "        slew_unit='T/m/s',\n",
    "        rf_ringdown_time=30e-6,\n",
    "        rf_dead_time=100e-6,\n",
    "    )\n"
   ]
  },
  {
   "cell_type": "markdown",
   "metadata": {},
   "source": [
    "pp.Opts() function passes the following variables (see documentation for more details).\n",
    "- adc dead time (default = 0)\n",
    "    - time taken to digitise continuous waveforms recieved\n",
    "\n",
    "- gyromagnetic ratio (default value, proton)\n",
    "\n",
    "- gradient raster time (default value)\n",
    "    - *rasterization: converting continuous wave into discrete points*\n",
    "    - *Grad raster time: time taken to \"digitise\" gradient waveforms*\n",
    "\n",
    "- gradiant unit (default Hz/m)\n",
    "\n",
    "- maximum gradient (default 0)\n",
    "\n",
    "- maximum slew rate (default 0)\n",
    "    - \"quickest\" gradient can ramp up to it's maximum amplitude\n",
    "\n",
    "- RF dead time\n",
    "    - when rf coil switches from transmit to recieve\n",
    "    - cannot send or recieve data\n",
    "    - *do we have only 1 rf coil?*\n",
    "\n",
    "- RF raster time\n",
    "    - time taken to digitise continuous RF pulses\n",
    "\n",
    "- RF ringdown time\n",
    "    - time taken for RF coil to chill out after emitting a pulse\n",
    "    - to avoid interference/artefacts as much as possible\n",
    "\n",
    "- rise time\n",
    "    - time taken for gradient to ramp up to it's maximum amplitude\n",
    "\n",
    "- slew unit (user specified, eg. T/m/s)\n"
   ]
  },
  {
   "cell_type": "code",
   "execution_count": null,
   "metadata": {},
   "outputs": [],
   "source": [
    " seq = pp.Sequence(system)  # Create a new sequence object"
   ]
  },
  {
   "cell_type": "markdown",
   "metadata": {},
   "source": [
    "^^^^\n",
    "Will be relevent later in sequence construction section"
   ]
  },
  {
   "cell_type": "markdown",
   "metadata": {},
   "source": [
    "#### Creating Events"
   ]
  },
  {
   "cell_type": "code",
   "execution_count": null,
   "metadata": {},
   "outputs": [],
   "source": [
    "# Create 90 degree slice selection pulse and gradient\n",
    "    rf, gz, _ = pp.make_sinc_pulse(\n",
    "        flip_angle=np.pi / 2,\n",
    "        system=system,\n",
    "        duration=3e-3,\n",
    "        slice_thickness=slice_thickness,\n",
    "        apodization=0.5,\n",
    "        time_bw_product=4,\n",
    "        return_gz=True,\n",
    "        delay=system.rf_dead_time,\n",
    "    )"
   ]
  },
  {
   "cell_type": "markdown",
   "metadata": {},
   "source": [
    "returns rf sinc pulse and slice select trapezoidal gradient (iff slice thickness defined)\n",
    "\n",
    "Consider make_sinc_pulse() variables:\n",
    "\n",
    "- flip angle in radians \n",
    "- apodization (default =0)\n",
    "    - I think this reduces spectral contamination artefacts?\n",
    "- centre_pos\n",
    "    - position of peak (assumed midway?)\n",
    "- delay (in seconds)\n",
    "    - usually rf dead time\n",
    "- duration (default = 0.004s)\n",
    "- dwell? (default 0)\n",
    "- freq_offset\n",
    "- max_grad\n",
    "    - maximum gradient for slice select waveform (trapezioid)\n",
    "- max slew\n",
    "    - of slice select gradient\n",
    "- phase offset? Read on phase-offset multiplanar volume imaging [click this link](https://pubmed.ncbi.nlm.nih.gov/1790368/)\n",
    "- return_delay (does a delay need to be returned)\n",
    "- return_gz (does slice select gradient need to be returned)\n",
    "- slice_thickness (default 0)\n",
    "    -**pre-defined earlier in code during FOV and resolution**\n",
    "- system\n",
    "    - **defined earlier in code when system limits were set**\n",
    "- time_bw_product (default 4)\n",
    "- use (options include \"excitation\", \"refocusing\" or \"inversion\")\n",
    "\n",
    "\n",
    "\n"
   ]
  },
  {
   "cell_type": "markdown",
   "metadata": {},
   "source": [
    "##### Defining gradients and ADC events"
   ]
  },
  {
   "cell_type": "code",
   "execution_count": null,
   "metadata": {},
   "outputs": [],
   "source": [
    " # Define other gradients and ADC events\n",
    "    delta_k = 1 / fov\n",
    "    k_width = Nx * delta_k\n",
    "    dwell_time = 4e-6\n",
    "    readout_time = Nx * dwell_time\n",
    "    flat_time = np.ceil(readout_time * 1e5) * 1e-5  # round-up to the gradient raster\n",
    "    gx = pp.make_trapezoid(\n",
    "        channel='x',\n",
    "        system=system,\n",
    "        amplitude=k_width / readout_time,\n",
    "        flat_time=flat_time,\n",
    "    )\n",
    "    adc = pp.make_adc(\n",
    "        num_samples=Nx,\n",
    "        duration=readout_time,\n",
    "        delay=gx.rise_time + flat_time / 2 - (readout_time - dwell_time) / 2,\n",
    "    )\n"
   ]
  },
  {
   "cell_type": "markdown",
   "metadata": {},
   "source": [
    "**REMEMBER $N_{x}$ and $N_{y}$ are the matrix sizes defined near line 1**\n",
    "1. $\\Delta k = \\frac{1}{FOV}$\n",
    "    - spacing between data points in k-space\n",
    "2. $k_{width} = k_{FOV} = \\frac{N_{x}}{FOV}$\n",
    "3. Dwell time = ADC dead time after sampling\n",
    "4. readout time = time taken to collect data points for single phase encoding line\n",
    "5. flat time\n",
    "    - np.ceil essentially rounds the value up to the nearest integer\n",
    "    - don't really understand this equation\n",
    "    - flat time is a specific property of fast-imaging sequences\n",
    "\n",
    "    "
   ]
  },
  {
   "cell_type": "markdown",
   "metadata": {},
   "source": [
    "# References\n",
    "\n",
    "mriquestions.com (fov, matrix size and resolution)\n",
    "pypulseq documentation"
   ]
  }
 ],
 "metadata": {
  "language_info": {
   "name": "python"
  }
 },
 "nbformat": 4,
 "nbformat_minor": 2
}
