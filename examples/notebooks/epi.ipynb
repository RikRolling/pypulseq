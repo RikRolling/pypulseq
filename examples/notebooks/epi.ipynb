{
 "cells": [
  {
   "cell_type": "markdown",
   "metadata": {},
   "source": [
    "EPI Notebook\n",
    "============\n",
    "**Note: this code will not run.\n",
    "See /cubric/data/c24073803/pypulseq_repo/pypulseq/examples/scripts/write_epi.py for runnable script**\n",
    "\n",
    "## Objectives\n",
    "1. To decontruct and understand the lines of code within write_epi.py\n",
    "2. To alter parameters and explore their resultant effect\n",
    "3. To explore changing the shape of the RF pulse\n",
    "\n",
    "\n",
    "\n",
    "\n",
    "\n",
    "**Rik Khot**\\\n",
    "**PhD Student**\\\n",
    "**Cardiff University School of Physics & Astronomy**\\\n",
    "**Supervisors: Kevin Murphy, Ian Driver, Emre Kopanoglu**"
   ]
  },
  {
   "cell_type": "code",
   "execution_count": null,
   "metadata": {},
   "outputs": [],
   "source": [
    "#Import packages\n",
    "import numpy as np\n",
    "import pypulseq as pp\n"
   ]
  },
  {
   "cell_type": "markdown",
   "metadata": {},
   "source": [
    "For information on the specific functions that are part of the pypulseq package [click this link](https://pypulseq.readthedocs.io/en/master/pypulseq.html)."
   ]
  },
  {
   "cell_type": "markdown",
   "metadata": {},
   "source": [
    "### MAIN FUNCTION\n",
    "The function main() contains all the code required to produce a .seq file.\\\n",
    ".seq files are what the MRI scanner reads to initiate a pulse sequence. \\\n",
    "The main() code also produces plots, which we will discuss further on."
   ]
  },
  {
   "cell_type": "code",
   "execution_count": null,
   "metadata": {},
   "outputs": [],
   "source": [
    "def main(plot: bool = False, write_seq: bool = False, seq_filename: str = 'epi_pypulseq.seq'):"
   ]
  },
  {
   "cell_type": "markdown",
   "metadata": {},
   "source": [
    "Let us consider the variables:\n",
    "- plot\n",
    "    - Variable of Boolean type (true/false)\n",
    "- write_seq\n",
    "    - Variable of Boolean type (true/false)\n",
    "- seq_filename\n",
    "    - Variable of string type \n",
    "    - Variable hardcoded as \"epi_pypulseq.seq\""
   ]
  },
  {
   "cell_type": "code",
   "execution_count": null,
   "metadata": {},
   "outputs": [],
   "source": [
    "# Define FOV and resolution\n",
    "    fov = 220e-3\n",
    "    Nx = 64\n",
    "    Ny = 64\n",
    "    slice_thickness = 3e-3  # Slice thickness\n",
    "    n_slices = 3"
   ]
  },
  {
   "cell_type": "markdown",
   "metadata": {},
   "source": [
    "N.B. We will assume that fov and slice thickness is quoted in **meters** \n",
    "\n",
    "The 1st section of the function hardcodes the values for:\n",
    "1. Field of view (FOV)\n",
    "    - *distance over which the MR image is acquired*\n",
    "    - *FOV and pixel width determine how many digitised samples are required to construct an image with required resolution*\n",
    "    - Spacing between k-space samples, $\\Delta k = \\frac{1}{FOV}$\n",
    "2. Matrix size\n",
    "    - relates to the number of pixels within an image\n",
    "    - affects resolution and image quality\n",
    "    would expect 128 x 128 or 256 x 256\n",
    "3. Slice Thickness\n",
    "    - Based on RF bandwidth\n",
    "    - In general(NOT MR SPECIFIC), RF wavelength range: $~3mm - 300,000m$\n",
    "\n",
    "4. No. of slices\n",
    "    - $n_{maxslices} = \\frac{TR}{TE}$"
   ]
  },
  {
   "cell_type": "code",
   "execution_count": null,
   "metadata": {},
   "outputs": [],
   "source": [
    "# Set system limits\n",
    "    system = pp.Opts(\n",
    "        max_grad=32,\n",
    "        grad_unit='mT/m',\n",
    "        max_slew=130,\n",
    "        slew_unit='T/m/s',\n",
    "        rf_ringdown_time=30e-6,\n",
    "        rf_dead_time=100e-6,\n",
    "    )\n"
   ]
  },
  {
   "cell_type": "markdown",
   "metadata": {},
   "source": [
    "pp.Opts() function passes the following variables (see documentation for more details).\n",
    "- adc dead time\n",
    "- gyromagnetic ratio (default value, proton)\n",
    "- gradient raster time (default value)\n",
    "- gradiant unit (default Hz/m)\n",
    "- maximum gradient (default 0)\n",
    "- maximum slew rate (default 0)\n",
    "- RF dead time\n",
    "- RF raster time\n",
    "- RF ringdown time\n",
    "- rise time\n",
    "- slew unit"
   ]
  },
  {
   "cell_type": "markdown",
   "metadata": {},
   "source": [
    "# References\n",
    "\n",
    "mriquestions.com (fov, matrix size and resolution)\n",
    "pypulseq documentation"
   ]
  }
 ],
 "metadata": {
  "language_info": {
   "name": "python"
  }
 },
 "nbformat": 4,
 "nbformat_minor": 2
}
