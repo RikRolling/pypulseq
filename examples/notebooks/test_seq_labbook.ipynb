{
 "cells": [
  {
   "cell_type": "markdown",
   "id": "b8db9535-ef34-4229-90eb-2f5a06d07c4d",
   "metadata": {},
   "source": [
    "# Test Sequences Lab Book\n",
    "\n",
    "## Objective: Document process of creating 1st batch of test sequences\n",
    "\n",
    "## Rik Khot\n",
    "## Cardiff University School of Physics & Astronomy\n",
    "## Supervisors: Kevin Murphy, Ian Driver, Emre Kopanoglu\n",
    "## May 2025 "
   ]
  },
  {
   "cell_type": "markdown",
   "id": "149cf8bb-b721-4d74-888a-c12f2c6a0f68",
   "metadata": {},
   "source": [
    "# Introduction\n",
    "\n",
    "\n",
    "## Aims\n",
    "\n",
    "I will create a batch of test sequences to trial on the Siemens 3T PRISMA. These are the following aims of these tests:\n",
    "\n",
    "- To learn how to navigate loading pulseq files onto a Siemens MR Scanner\n",
    "- To investigate alternative open-source pulse sequences for DIMAC (as opposed to Siemens pre-made sequences)\n",
    "- To gather information on product specifications for 3T PRISMA (so these can be hard coded into pulseq files)\n",
    "- To incorporate existing image reconstruction techniques (SENSE/GRAPPA) within pulseq scripts\n",
    "\n",
    "## The Test Sequence list (subject to change)\n",
    "\n",
    "- EPI\n",
    "- EPI (with spoiled gradients)\n",
    "- Radial\n",
    "- Spiral\n",
    "\n",
    "- EPI Undersampled\n",
    "- Radial Undersampled\n",
    "- Spiral Undersampled\n",
    "\n",
    "## DIMAC Criteria\n",
    "Dynamic Inflow MAgnitude Contrast (DIMAC) requires an ultra-fast TR. We require $TR \\le 15ms$\n",
    "\n",
    "DIMAC measure real-time pulsatile flow into a slice. The aim is to \"dull down\" all other signals, so that fresh signals entering a slice have a high signal intensity w.r.t the rest of the slice componants.\n",
    "\n",
    "The main advantage of DIMAC is that is does not require Motion Encoding Gradients and uses the natural phenomena of the inflow effect to observe new flow entering a slice across an artery.\n",
    "\n",
    "Therefore we define the following criteria:\n",
    "\n",
    "- $TR \\le 15ms$\n",
    "- Pulse sequence supresses all signal within slice [so that new  are clearly observed\n",
    "\n",
    "## 3T Siemens PRISMA Specifications\n"
   ]
  },
  {
   "cell_type": "code",
   "execution_count": null,
   "id": "4501f3e7-f45f-43f6-bf76-ceec1e4d9875",
   "metadata": {},
   "outputs": [],
   "source": []
  }
 ],
 "metadata": {
  "kernelspec": {
   "display_name": "Python 3 (ipykernel)",
   "language": "python",
   "name": "python3"
  },
  "language_info": {
   "codemirror_mode": {
    "name": "ipython",
    "version": 3
   },
   "file_extension": ".py",
   "mimetype": "text/x-python",
   "name": "python",
   "nbconvert_exporter": "python",
   "pygments_lexer": "ipython3",
   "version": "3.12.9"
  }
 },
 "nbformat": 4,
 "nbformat_minor": 5
}
