{
 "cells": [
  {
   "cell_type": "markdown",
   "id": "65793898-dadc-41f5-bacc-f82b492f7a76",
   "metadata": {},
   "source": [
    "# EPI Radial Script\n",
    "\n",
    "## Objective: To create a pypulseq script that generates a single-slice radial EPI sequence\n",
    "\n",
    "### Rik Khot\n",
    "### School of Physics & Astronomy\n",
    "### Supervisors: Kevin Murphy, Ian Driver, Emre Kopanoglu\n",
    "### May 2025"
   ]
  },
  {
   "cell_type": "markdown",
   "id": "85299189-c5d9-4f9c-b63e-0ea41ba712ad",
   "metadata": {},
   "source": [
    "# Step 1: Identify Differences\n",
    "\n",
    "Here we will compare **write_radial_gre.py**, **write_gre.py** and **write_epi.py** scripts which originate from the pypulseq files on GitHub.\n",
    "This is because the only radial example considers gradient echo and not epi, hence we need to compare and contrast across the 3 python files.\n",
    "\n",
    "| Statement | EPI | GRE_cartesian | GRE_radial |\n",
    "|:--------:|:--------:|:--------:|:--------:|\n",
    "|  Nx and Ny  |  Y   |  Y  | N (*Nx only*)  |\n",
    "|  Flip angle defined outside sinc pulse  |  N  |  Y  | Y   |\n",
    "|  TE and TR defined    |  N  |  Y   | Y   |\n",
    "|  **Nr (*no. of radial spokes*)**|  **N**  |  **N**   | **Y**   |\n",
    "|  **N_dummy (*no. of dummy scans*)**   |  **N**  |  **N** |  **Y** |\n",
    "|  **Angular increment (*of radial spokes*)** |  **N**  | **N**  | **Y**  |\n",
    "|  RF spoiling increment   |  N  | Y  | Y  |\n",
    "|  number of slices   | Y   |  N | N  |\n",
    "|  ADC dead time defined  |  N  |  Y |  Y |\n",
    "|   k-space width   |  Y  | N  | N  |\n",
    "|  y gradient defined pre-seq   |  Y  |  N | N  |\n",
    "| Spoilled gradients    |  N  | Y  | Y  |\n",
    "|  **bool delay_TE >=0**  | **N**   |  **Y** | **N**  |\n",
    "|   bool delay_TR >= spoiler grad duration  |   N | Y  | Y |\n",
    "| rf phase increments    | N   |  Y | Y  |\n",
    "|  dwell time, readout time, flat time   |  Y  | N  |  N |\n",
    "|  phase blip   | Y   | N  | N  |\n",
    "|  **sequence block within range...**   |  **no. of slices**  | **$N_{y}$**  | **$-N_{dummy}$ to $N_{spokes} + 1$**  |\n",
    "| rf frequency offset within seq block    |  Y  | N  |  N |\n",
    "|  rf phase offset within seq block   |  N  |  Y | Y  |\n",
    "|  adc phase offset    |  N  |  Y | Y  |\n",
    "|  **angular increment in sequence block**   | **N**   | **N**  | **Y**  |\n",
    "|  **adding rotation block**   |  **N**  | **N**  | **Y (*about z*)** |\n",
    "|  define gy pre-seq in sequence block   | N   | Y  | N  |\n"
   ]
  },
  {
   "cell_type": "markdown",
   "id": "d20e2998-e5ec-4a09-8186-2decc6d9d96c",
   "metadata": {},
   "source": [
    "Note that rows highlighed in **bold** are characteristics of interest when introducting radial spokes into EPI"
   ]
  },
  {
   "cell_type": "code",
   "execution_count": null,
   "id": "dd532d54-90d9-4c20-b907-b4be78ea98b9",
   "metadata": {},
   "outputs": [],
   "source": []
  }
 ],
 "metadata": {
  "kernelspec": {
   "display_name": "Python 3 (ipykernel)",
   "language": "python",
   "name": "python3"
  },
  "language_info": {
   "codemirror_mode": {
    "name": "ipython",
    "version": 3
   },
   "file_extension": ".py",
   "mimetype": "text/x-python",
   "name": "python",
   "nbconvert_exporter": "python",
   "pygments_lexer": "ipython3",
   "version": "3.12.9"
  }
 },
 "nbformat": 4,
 "nbformat_minor": 5
}
